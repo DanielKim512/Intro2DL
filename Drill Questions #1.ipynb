{
 "cells": [
  {
   "cell_type": "code",
   "execution_count": 45,
   "id": "1f9614e3",
   "metadata": {},
   "outputs": [
    {
     "name": "stdout",
     "output_type": "stream",
     "text": [
      "[[0 1 2 3 4 5 6]\n",
      " [0 1 2 3 4 5 6]\n",
      " [0 1 2 3 4 5 6]\n",
      " [0 1 2 3 4 5 6]\n",
      " [0 1 2 3 4 5 6]\n",
      " [0 1 2 3 4 5 6]\n",
      " [0 1 2 3 4 5 6]]\n"
     ]
    },
    {
     "data": {
      "text/plain": [
       "(7, 7)"
      ]
     },
     "execution_count": 45,
     "metadata": {},
     "output_type": "execute_result"
    }
   ],
   "source": [
    "#Problem 1\n",
    "import numpy as np\n",
    "\n",
    "a = np.tile(np.arange(7),(7,1))\n",
    "print(a)\n",
    "a.shape"
   ]
  },
  {
   "cell_type": "code",
   "execution_count": 46,
   "id": "df208a15",
   "metadata": {},
   "outputs": [
    {
     "name": "stdout",
     "output_type": "stream",
     "text": [
      "[1 2 3 4]\n"
     ]
    },
    {
     "data": {
      "text/plain": [
       "array([[1, 2, 3],\n",
       "       [2, 3, 4],\n",
       "       [3, 4, 5]])"
      ]
     },
     "execution_count": 46,
     "metadata": {},
     "output_type": "execute_result"
    }
   ],
   "source": [
    "#Problem 2\n",
    "from numpy.lib import stride_tricks\n",
    "\n",
    "A = np.array([1,2,3,4])\n",
    "print(A)\n",
    "#Want to produce [[1,2,3],[2,3,4]] \n",
    "A.strides\n",
    "stride_tricks.as_strided(A,shape= (2,3),strides=(8,8))\n",
    "\n",
    "#Testing a 3x3\n",
    "test = np.array([1,2,3,4,5])\n",
    "stride_tricks.as_strided(test, shape = (3,3), strides = (8,8))"
   ]
  },
  {
   "cell_type": "code",
   "execution_count": null,
   "id": "04a48170",
   "metadata": {},
   "outputs": [],
   "source": [
    "#Problem 3\n",
    "#Stochastic Gradient is better at saving time than standard gradient descent when there exists a large training data.\n",
    "#This is because instead of running through the entire training data, stochastic gradient only runs through one data point.\n",
    "#While less accurate, running through enough iterations less than the total training data would provide a good enough estimate.\n",
    "#Better method would be to use Mini-batch gradient descent where it is a mix of both. "
   ]
  }
 ],
 "metadata": {
  "kernelspec": {
   "display_name": "Python 3 (ipykernel)",
   "language": "python",
   "name": "python3"
  },
  "language_info": {
   "codemirror_mode": {
    "name": "ipython",
    "version": 3
   },
   "file_extension": ".py",
   "mimetype": "text/x-python",
   "name": "python",
   "nbconvert_exporter": "python",
   "pygments_lexer": "ipython3",
   "version": "3.9.5"
  }
 },
 "nbformat": 4,
 "nbformat_minor": 5
}
