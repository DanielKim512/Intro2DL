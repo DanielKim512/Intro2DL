{
 "cells": [
  {
   "cell_type": "code",
   "execution_count": 174,
   "id": "e985901d",
   "metadata": {},
   "outputs": [
    {
     "data": {
      "text/plain": [
       "matrix([[-20. , -20. , -20. , ..., -20. , -20. , -20. ],\n",
       "        [-19.9, -19.9, -19.9, ..., -19.9, -19.9, -19.9],\n",
       "        [-19.8, -19.8, -19.8, ..., -19.8, -19.8, -19.8],\n",
       "        ...,\n",
       "        [ 19.8,  19.8,  19.8, ...,  19.8,  19.8,  19.8],\n",
       "        [ 19.9,  19.9,  19.9, ...,  19.9,  19.9,  19.9],\n",
       "        [ 20. ,  20. ,  20. , ...,  20. ,  20. ,  20. ]])"
      ]
     },
     "execution_count": 174,
     "metadata": {},
     "output_type": "execute_result"
    }
   ],
   "source": [
    "import numpy as np\n",
    "\n",
    "j = np.matrix((np.linspace(-20,20,num = 401)))\n",
    "\n",
    "X = np.tile(j.transpose(),(1,50))\n",
    "X = np.matrix(X)\n",
    "X #401x50"
   ]
  },
  {
   "cell_type": "code",
   "execution_count": 202,
   "id": "3bfa67ad",
   "metadata": {},
   "outputs": [
    {
     "data": {
      "text/plain": [
       "matrix([[-2.00000000e+01,  4.00000000e+02, -8.00000000e+03, ...,\n",
       "          2.81474977e+62, -5.62949953e+63,  1.12589991e+65],\n",
       "        [-1.99000000e+01,  3.96010000e+02, -7.88059900e+03, ...,\n",
       "          2.21282805e+62, -4.40352782e+63,  8.76302035e+64],\n",
       "        [-1.98000000e+01,  3.92040000e+02, -7.76239200e+03, ...,\n",
       "          1.73751728e+62, -3.44028422e+63,  6.81176275e+64],\n",
       "        ...,\n",
       "        [ 1.98000000e+01,  3.92040000e+02,  7.76239200e+03, ...,\n",
       "          1.73751728e+62,  3.44028422e+63,  6.81176275e+64],\n",
       "        [ 1.99000000e+01,  3.96010000e+02,  7.88059900e+03, ...,\n",
       "          2.21282805e+62,  4.40352782e+63,  8.76302035e+64],\n",
       "        [ 2.00000000e+01,  4.00000000e+02,  8.00000000e+03, ...,\n",
       "          2.81474977e+62,  5.62949953e+63,  1.12589991e+65]])"
      ]
     },
     "execution_count": 202,
     "metadata": {},
     "output_type": "execute_result"
    }
   ],
   "source": [
    "b = np.arange(1,51)\n",
    "ans = np.power(X,b)\n",
    "ans"
   ]
  }
 ],
 "metadata": {
  "kernelspec": {
   "display_name": "Python 3 (ipykernel)",
   "language": "python",
   "name": "python3"
  },
  "language_info": {
   "codemirror_mode": {
    "name": "ipython",
    "version": 3
   },
   "file_extension": ".py",
   "mimetype": "text/x-python",
   "name": "python",
   "nbconvert_exporter": "python",
   "pygments_lexer": "ipython3",
   "version": "3.10.2"
  }
 },
 "nbformat": 4,
 "nbformat_minor": 5
}
